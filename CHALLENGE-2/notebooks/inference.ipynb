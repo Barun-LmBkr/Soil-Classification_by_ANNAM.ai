{
 "cells": [
  {
   "cell_type": "markdown",
   "id": "7a111c24",
   "metadata": {},
   "source": [
    "\"\"\"\n",
    "\n",
    "Author: Annam.ai IIT Ropar\n",
    "Team Name: Ice 'N' Dagger\n",
    "Team Members: Barun Saha, Bibaswan Das\n",
    "Leaderboard Rank: 70\n",
    "\n",
    "\"\"\"\n",
    "\n",
    "# This is the notebook used for making the inferences using the model trained."
   ]
  },
  {
   "cell_type": "code",
   "execution_count": null,
   "id": "7f33b2fb",
   "metadata": {
    "vscode": {
     "languageId": "plaintext"
    }
   },
   "outputs": [],
   "source": [
    "import numpy as np\n",
    "import pandas as pd\n",
    "import cv2\n",
    "import os\n",
    "import joblib\n",
    "from sklearn.svm import OneClassSVM\n",
    "from sklearn.preprocessing import StandardScaler\n",
    "from tensorflow.keras.applications import ResNet50, VGG16\n",
    "from tensorflow.keras.applications.resnet50 import preprocess_input as resnet_preprocess\n",
    "from tensorflow.keras.applications.vgg16 import preprocess_input as vgg_preprocess\n",
    "from tqdm import tqdm"
   ]
  },
  {
   "cell_type": "code",
   "execution_count": null,
   "id": "cd8ca32a",
   "metadata": {
    "vscode": {
     "languageId": "plaintext"
    }
   },
   "outputs": [],
   "source": [
    "# Paths\n",
    "TEST_PATH = '/kaggle/input/soil-classification-part-2/soil_competition-2025/test'\n",
    "TEST_CSV = '/kaggle/input/soil-classification-part-2/soil_competition-2025/test_ids.csv'\n",
    "MODEL_PATH = '/kaggle/working/ocsvm_model.pkl'\n",
    "SCALER_PATH = '/kaggle/working/scaler.pkl'\n"
   ]
  },
  {
   "cell_type": "code",
   "execution_count": null,
   "id": "612ecc5c",
   "metadata": {
    "vscode": {
     "languageId": "plaintext"
    }
   },
   "outputs": [],
   "source": [
    "# Load test dataframe\n",
    "test_df = pd.read_csv(TEST_CSV)"
   ]
  },
  {
   "cell_type": "code",
   "execution_count": null,
   "id": "7e65fa44",
   "metadata": {
    "vscode": {
     "languageId": "plaintext"
    }
   },
   "outputs": [],
   "source": [
    "# Load trained One-Class SVM and scaler\n",
    "ocsvm = joblib.load(MODEL_PATH)\n",
    "scaler = joblib.load(SCALER_PATH)\n"
   ]
  },
  {
   "cell_type": "code",
   "execution_count": null,
   "id": "395f0152",
   "metadata": {
    "vscode": {
     "languageId": "plaintext"
    }
   },
   "outputs": [],
   "source": [
    "# Load pre-trained feature extractors\n",
    "resnet_model = ResNet50(weights='imagenet', include_top=False, pooling='avg')\n",
    "vgg_model = VGG16(weights='imagenet', include_top=False, pooling='avg')\n",
    "\n",
    "def extract_features_from_image(img_path, resnet_model, vgg_model, img_size=(224, 224)):\n",
    "    try:\n",
    "        img = cv2.imread(img_path)\n",
    "        if img is None:\n",
    "            return None\n",
    "        img = cv2.cvtColor(img, cv2.COLOR_BGR2RGB)\n",
    "        img_resized = cv2.resize(img, img_size)\n",
    "\n",
    "        # Preprocess\n",
    "        img_resnet = resnet_preprocess(np.expand_dims(img_resized, axis=0))\n",
    "        img_vgg = vgg_preprocess(np.expand_dims(img_resized, axis=0))\n",
    "\n",
    "        # Extract\n",
    "        resnet_features = resnet_model.predict(img_resnet, verbose=0).flatten()\n",
    "        vgg_features = vgg_model.predict(img_vgg, verbose=0).flatten()\n",
    "\n",
    "        return np.concatenate([resnet_features, vgg_features])\n",
    "    except:\n",
    "        return None"
   ]
  },
  {
   "cell_type": "code",
   "execution_count": null,
   "id": "0cf0caa2",
   "metadata": {
    "vscode": {
     "languageId": "plaintext"
    }
   },
   "outputs": [],
   "source": [
    "# Inference\n",
    "predictions = []\n",
    "ids = []\n",
    "for _, row in tqdm(test_df.iterrows(), total=len(test_df)):\n",
    "    img_id = row['image_id']\n",
    "    img_path = os.path.join(TEST_PATH, img_id)\n",
    "    features = extract_features_from_image(img_path, resnet_model, vgg_model)\n",
    "    if features is not None:\n",
    "        features_scaled = scaler.transform([features])\n",
    "        pred = ocsvm.predict(features_scaled)[0]\n",
    "        label = 1 if pred == 1 else 0\n",
    "    else:\n",
    "        label = 0  # default to not soil\n",
    "    predictions.append(label)\n",
    "    ids.append(img_id)\n"
   ]
  },
  {
   "cell_type": "code",
   "execution_count": null,
   "id": "2c6e3d01",
   "metadata": {
    "vscode": {
     "languageId": "plaintext"
    }
   },
   "outputs": [],
   "source": [
    "# Submission\n",
    "submission_df = pd.DataFrame({\n",
    "    'image_id': ids,\n",
    "    'label': predictions\n",
    "})\n",
    "\n",
    "submission_path = '/kaggle/working/submission.csv'\n",
    "submission_df.to_csv(submission_path, index=False)\n",
    "\n",
    "print(f\"Submission file saved to: {submission_path}\")\n"
   ]
  }
 ],
 "metadata": {
  "language_info": {
   "name": "python"
  }
 },
 "nbformat": 4,
 "nbformat_minor": 5
}
