{
 "cells": [
  {
   "cell_type": "markdown",
   "id": "14a44fac",
   "metadata": {},
   "source": [
    "# training.ipynb\n",
    "\n",
    "\"\"\"\n",
    "\n",
    "Author: Annam.ai IIT Ropar\n",
    "Team Name: Ice 'N' Dagger\n",
    "Team Members: Barun Saha, Bibaswan Das\n",
    "Leaderboard Rank: 70 \n",
    "\n",
    "\"\"\"\n",
    "\n",
    "# This is the notebook used for training the model."
   ]
  },
  {
   "cell_type": "code",
   "execution_count": null,
   "id": "8d6c3ded",
   "metadata": {},
   "outputs": [],
   "source": [
    "# Imports and Setup\n",
    "import numpy as np\n",
    "import pandas as pd\n",
    "import cv2\n",
    "import os\n",
    "import tensorflow as tf\n",
    "from sklearn.preprocessing import StandardScaler\n",
    "from tensorflow.keras.applications import ResNet50, VGG16\n",
    "from tensorflow.keras.applications.resnet50 import preprocess_input as resnet_preprocess\n",
    "from tensorflow.keras.applications.vgg16 import preprocess_input as vgg_preprocess\n",
    "import warnings\n",
    "warnings.filterwarnings('ignore')\n",
    "\n",
    "np.random.seed(42)\n",
    "tf.random.set_seed(42)\n"
   ]
  },
  {
   "cell_type": "code",
   "execution_count": null,
   "id": "880b01bd",
   "metadata": {},
   "outputs": [],
   "source": [
    "# Paths and Data Loading\n",
    "TRAIN_PATH = '/kaggle/input/soil-classification-part-2/soil_competition-2025/train'\n",
    "TRAIN_CSV = '/kaggle/input/soil-classification-part-2/soil_competition-2025/train_labels.csv'\n",
    "train_df = pd.read_csv(TRAIN_CSV)"
   ]
  },
  {
   "cell_type": "code",
   "execution_count": null,
   "id": "14f66d39",
   "metadata": {},
   "outputs": [],
   "source": [
    "#  Load Feature Extractors\n",
    "def load_feature_extractors():\n",
    "    resnet_model = ResNet50(weights='imagenet', include_top=False, pooling='avg')\n",
    "    vgg_model = VGG16(weights='imagenet', include_top=False, pooling='avg')\n",
    "    return resnet_model, vgg_model\n",
    "\n",
    "resnet_model, vgg_model = load_feature_extractors()"
   ]
  },
  {
   "cell_type": "code",
   "execution_count": null,
   "id": "aa8d7b57",
   "metadata": {},
   "outputs": [],
   "source": [
    "#  Feature Extraction Function\n",
    "def extract_features_from_image(img_path, resnet_model, vgg_model, img_size=(224, 224)):\n",
    "    img = cv2.imread(img_path)\n",
    "    if img is None:\n",
    "        return None\n",
    "    img = cv2.cvtColor(img, cv2.COLOR_BGR2RGB)\n",
    "    img_resized = cv2.resize(img, img_size)\n",
    "    resnet_input = resnet_preprocess(np.expand_dims(img_resized, axis=0))\n",
    "    vgg_input = vgg_preprocess(np.expand_dims(img_resized, axis=0))\n",
    "    resnet_features = resnet_model.predict(resnet_input, verbose=0).flatten()\n",
    "    vgg_features = vgg_model.predict(vgg_input, verbose=0).flatten()\n",
    "    return np.concatenate([resnet_features, vgg_features])"
   ]
  },
  {
   "cell_type": "code",
   "execution_count": null,
   "id": "0cd585e8",
   "metadata": {},
   "outputs": [],
   "source": [
    "#  Extract Features from Training Set\n",
    "def extract_training_features(train_df, train_path, resnet_model, vgg_model):\n",
    "    features_list = []\n",
    "    for _, row in train_df.iterrows():\n",
    "        img_path = os.path.join(train_path, row['image_id'])\n",
    "        features = extract_features_from_image(img_path, resnet_model, vgg_model)\n",
    "        if features is not None:\n",
    "            features_list.append(features)\n",
    "    return np.array(features_list)\n",
    "\n",
    "train_features = extract_training_features(train_df, TRAIN_PATH, resnet_model, vgg_model)"
   ]
  },
  {
   "cell_type": "code",
   "execution_count": null,
   "id": "9ed591f4",
   "metadata": {},
   "outputs": [],
   "source": [
    "#  Feature Scaling\n",
    "scaler = StandardScaler()\n",
    "train_features_scaled = scaler.fit_transform(train_features)"
   ]
  },
  {
   "cell_type": "code",
   "execution_count": null,
   "id": "627dbe31",
   "metadata": {},
   "outputs": [],
   "source": [
    "#  Save Scaler\n",
    "import joblib\n",
    "joblib.dump(scaler, '/kaggle/working/scaler.pkl')"
   ]
  },
  {
   "cell_type": "code",
   "execution_count": null,
   "id": "9253ffbd",
   "metadata": {},
   "outputs": [],
   "source": [
    "#  Train One-Class SVM\n",
    "from sklearn.svm import OneClassSVM\n",
    "ocsvm = OneClassSVM(kernel='rbf', gamma='scale', nu=0.01)\n",
    "ocsvm.fit(train_features_scaled)"
   ]
  },
  {
   "cell_type": "code",
   "execution_count": null,
   "id": "60db412b",
   "metadata": {},
   "outputs": [],
   "source": [
    "#  Save OCSVM Model\n",
    "joblib.dump(ocsvm, '/kaggle/working/ocsvm_model.pkl')"
   ]
  },
  {
   "cell_type": "code",
   "execution_count": null,
   "id": "4f2db6af",
   "metadata": {},
   "outputs": [],
   "source": [
    "# Summary\n",
    "print(\"Training complete. Model and scaler saved to /kaggle/working/\")"
   ]
  }
 ],
 "metadata": {
  "kernelspec": {
   "display_name": "Python 3",
   "language": "python",
   "name": "python3"
  },
  "language_info": {
   "name": "python",
   "version": "3.10.8"
  }
 },
 "nbformat": 4,
 "nbformat_minor": 5
}
