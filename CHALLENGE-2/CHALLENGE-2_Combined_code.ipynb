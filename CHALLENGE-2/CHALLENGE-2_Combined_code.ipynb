{
 "cells": [
  {
   "cell_type": "code",
   "execution_count": 1,
   "id": "4fcdb86c",
   "metadata": {
    "execution": {
     "iopub.execute_input": "2025-05-24T09:14:34.135381Z",
     "iopub.status.busy": "2025-05-24T09:14:34.135192Z",
     "iopub.status.idle": "2025-05-24T09:14:49.444905Z",
     "shell.execute_reply": "2025-05-24T09:14:49.444056Z"
    },
    "papermill": {
     "duration": 15.314055,
     "end_time": "2025-05-24T09:14:49.446083",
     "exception": false,
     "start_time": "2025-05-24T09:14:34.132028",
     "status": "completed"
    },
    "tags": []
   },
   "outputs": [
    {
     "name": "stderr",
     "output_type": "stream",
     "text": [
      "2025-05-24 09:14:38.612598: E external/local_xla/xla/stream_executor/cuda/cuda_fft.cc:477] Unable to register cuFFT factory: Attempting to register factory for plugin cuFFT when one has already been registered\n",
      "WARNING: All log messages before absl::InitializeLog() is called are written to STDERR\n",
      "E0000 00:00:1748078078.801448      19 cuda_dnn.cc:8310] Unable to register cuDNN factory: Attempting to register factory for plugin cuDNN when one has already been registered\n",
      "E0000 00:00:1748078078.853025      19 cuda_blas.cc:1418] Unable to register cuBLAS factory: Attempting to register factory for plugin cuBLAS when one has already been registered\n"
     ]
    },
    {
     "name": "stdout",
     "output_type": "stream",
     "text": [
      "Libraries imported successfully!\n",
      "TensorFlow version: 2.18.0\n"
     ]
    }
   ],
   "source": [
    "import numpy as np\n",
    "import pandas as pd\n",
    "import cv2\n",
    "import os\n",
    "from sklearn.svm import OneClassSVM\n",
    "from sklearn.preprocessing import StandardScaler\n",
    "from sklearn.metrics import classification_report, accuracy_score\n",
    "import tensorflow as tf\n",
    "from tensorflow.keras.applications import ResNet50, VGG16\n",
    "from tensorflow.keras.applications.resnet50 import preprocess_input as resnet_preprocess\n",
    "from tensorflow.keras.applications.vgg16 import preprocess_input as vgg_preprocess\n",
    "from tensorflow.keras.preprocessing import image\n",
    "import matplotlib.pyplot as plt\n",
    "import seaborn as sns\n",
    "from tqdm import tqdm\n",
    "import warnings\n",
    "warnings.filterwarnings('ignore')\n",
    "\n",
    "# Set random seeds for reproducibility\n",
    "np.random.seed(42)\n",
    "tf.random.set_seed(42)\n",
    "\n",
    "print(\"Libraries imported successfully!\")\n",
    "print(f\"TensorFlow version: {tf.__version__}\")\n"
   ]
  },
  {
   "cell_type": "code",
   "execution_count": 2,
   "id": "2ea00684",
   "metadata": {
    "execution": {
     "iopub.execute_input": "2025-05-24T09:14:49.451529Z",
     "iopub.status.busy": "2025-05-24T09:14:49.451185Z",
     "iopub.status.idle": "2025-05-24T09:14:49.485686Z",
     "shell.execute_reply": "2025-05-24T09:14:49.484877Z"
    },
    "papermill": {
     "duration": 0.038364,
     "end_time": "2025-05-24T09:14:49.486889",
     "exception": false,
     "start_time": "2025-05-24T09:14:49.448525",
     "status": "completed"
    },
    "tags": []
   },
   "outputs": [
    {
     "name": "stdout",
     "output_type": "stream",
     "text": [
      "Training samples: 1222\n",
      "Test samples: 967\n",
      "\n",
      "Training data info:\n",
      "           image_id  label\n",
      "0  img_ed005410.jpg      1\n",
      "1  img_0c5ecd2a.jpg      1\n",
      "2  img_ed713bb5.jpg      1\n",
      "3  img_12c58874.jpg      1\n",
      "4  img_eff357af.jpg      1\n",
      "\n",
      "Label distribution in training set:\n",
      "label\n",
      "1    1222\n",
      "Name: count, dtype: int64\n",
      "✓ Confirmed: Training set contains only positive samples (soil images)\n"
     ]
    }
   ],
   "source": [
    "\n",
    "TRAIN_PATH = '/kaggle/input/soil-classification-part-2/soil_competition-2025/train'  # Update with actual path\n",
    "TEST_PATH = '/kaggle/input/soil-classification-part-2/soil_competition-2025/test'    # Update with actual path\n",
    "TRAIN_CSV = '/kaggle/input/soil-classification-part-2/soil_competition-2025/train_labels.csv'  # Update with actual path\n",
    "TEST_CSV = '/kaggle/input/soil-classification-part-2/soil_competition-2025/test_ids.csv'    # Update with actual path\n",
    "\n",
    "\n",
    "train_df = pd.read_csv(TRAIN_CSV)\n",
    "test_df = pd.read_csv(TEST_CSV)\n",
    "\n",
    "print(f\"Training samples: {len(train_df)}\")\n",
    "print(f\"Test samples: {len(test_df)}\")\n",
    "print(\"\\nTraining data info:\")\n",
    "print(train_df.head())\n",
    "print(f\"\\nLabel distribution in training set:\")\n",
    "print(train_df['label'].value_counts())\n",
    "\n",
    "# Verify that training set only contains positive samples (soil images)\n",
    "if train_df['label'].nunique() == 1 and train_df['label'].iloc[0] == 1:\n",
    "    print(\"✓ Confirmed: Training set contains only positive samples (soil images)\")\n",
    "else:\n",
    "    print(\"⚠️ Warning: Training set contains mixed labels\")\n"
   ]
  },
  {
   "cell_type": "code",
   "execution_count": 3,
   "id": "39534c14",
   "metadata": {
    "execution": {
     "iopub.execute_input": "2025-05-24T09:14:49.492139Z",
     "iopub.status.busy": "2025-05-24T09:14:49.491923Z",
     "iopub.status.idle": "2025-05-24T09:14:54.432789Z",
     "shell.execute_reply": "2025-05-24T09:14:54.432003Z"
    },
    "papermill": {
     "duration": 4.945065,
     "end_time": "2025-05-24T09:14:54.434009",
     "exception": false,
     "start_time": "2025-05-24T09:14:49.488944",
     "status": "completed"
    },
    "tags": []
   },
   "outputs": [
    {
     "name": "stdout",
     "output_type": "stream",
     "text": [
      "Loading pre-trained models...\n"
     ]
    },
    {
     "name": "stderr",
     "output_type": "stream",
     "text": [
      "I0000 00:00:1748078090.830491      19 gpu_device.cc:2022] Created device /job:localhost/replica:0/task:0/device:GPU:0 with 13942 MB memory:  -> device: 0, name: Tesla T4, pci bus id: 0000:00:04.0, compute capability: 7.5\n",
      "I0000 00:00:1748078090.831239      19 gpu_device.cc:2022] Created device /job:localhost/replica:0/task:0/device:GPU:1 with 13942 MB memory:  -> device: 1, name: Tesla T4, pci bus id: 0000:00:05.0, compute capability: 7.5\n"
     ]
    },
    {
     "name": "stdout",
     "output_type": "stream",
     "text": [
      "Downloading data from https://storage.googleapis.com/tensorflow/keras-applications/resnet/resnet50_weights_tf_dim_ordering_tf_kernels_notop.h5\n",
      "\u001b[1m94765736/94765736\u001b[0m \u001b[32m━━━━━━━━━━━━━━━━━━━━\u001b[0m\u001b[37m\u001b[0m \u001b[1m0s\u001b[0m 0us/step\n",
      "Downloading data from https://storage.googleapis.com/tensorflow/keras-applications/vgg16/vgg16_weights_tf_dim_ordering_tf_kernels_notop.h5\n",
      "\u001b[1m58889256/58889256\u001b[0m \u001b[32m━━━━━━━━━━━━━━━━━━━━\u001b[0m\u001b[37m\u001b[0m \u001b[1m0s\u001b[0m 0us/step\n",
      "✓ Models loaded successfully!\n",
      "ResNet50 feature dimension: 2048\n",
      "VGG16 feature dimension: 512\n",
      "Combined feature dimension: 2560\n"
     ]
    }
   ],
   "source": [
    "# Load pre-trained models for feature extraction\n",
    "def load_feature_extractors():\n",
    "    # ResNet50 without top layer for feature extraction\n",
    "    resnet_model = ResNet50(weights='imagenet', include_top=False, pooling='avg')\n",
    "    \n",
    "    # VGG16 without top layer for feature extraction\n",
    "    vgg_model = VGG16(weights='imagenet', include_top=False, pooling='avg')\n",
    "    \n",
    "    return resnet_model, vgg_model\n",
    "\n",
    "def extract_features_from_image(img_path, resnet_model, vgg_model, img_size=(224, 224)):\n",
    "    \"\"\"Extract features from a single image using both ResNet50 and VGG16\"\"\"\n",
    "    try:\n",
    "        # Load and preprocess image\n",
    "        img = cv2.imread(img_path)\n",
    "        if img is None:\n",
    "            return None\n",
    "        \n",
    "        img = cv2.cvtColor(img, cv2.COLOR_BGR2RGB)\n",
    "        img_resized = cv2.resize(img, img_size)\n",
    "        \n",
    "        # Prepare for ResNet50\n",
    "        img_resnet = np.expand_dims(img_resized, axis=0)\n",
    "        img_resnet = resnet_preprocess(img_resnet)\n",
    "        \n",
    "        # Prepare for VGG16\n",
    "        img_vgg = np.expand_dims(img_resized, axis=0)\n",
    "        img_vgg = vgg_preprocess(img_vgg)\n",
    "        \n",
    "        # Extract features\n",
    "        resnet_features = resnet_model.predict(img_resnet, verbose=0).flatten()\n",
    "        vgg_features = vgg_model.predict(img_vgg, verbose=0).flatten()\n",
    "        \n",
    "        # Combine features\n",
    "        combined_features = np.concatenate([resnet_features, vgg_features])\n",
    "        \n",
    "        return combined_features\n",
    "    \n",
    "    except Exception as e:\n",
    "        print(f\"Error processing {img_path}: {e}\")\n",
    "        return None\n",
    "\n",
    "# Load the models\n",
    "print(\"Loading pre-trained models...\")\n",
    "resnet_model, vgg_model = load_feature_extractors()\n",
    "print(\"✓ Models loaded successfully!\")\n",
    "print(f\"ResNet50 feature dimension: {resnet_model.output_shape[1]}\")\n",
    "print(f\"VGG16 feature dimension: {vgg_model.output_shape[1]}\")\n",
    "print(f\"Combined feature dimension: {resnet_model.output_shape[1] + vgg_model.output_shape[1]}\")\n"
   ]
  },
  {
   "cell_type": "code",
   "execution_count": 4,
   "id": "41a63beb",
   "metadata": {
    "execution": {
     "iopub.execute_input": "2025-05-24T09:14:54.440791Z",
     "iopub.status.busy": "2025-05-24T09:14:54.440588Z",
     "iopub.status.idle": "2025-05-24T09:18:43.602654Z",
     "shell.execute_reply": "2025-05-24T09:18:43.601621Z"
    },
    "papermill": {
     "duration": 229.166873,
     "end_time": "2025-05-24T09:18:43.604033",
     "exception": false,
     "start_time": "2025-05-24T09:14:54.437160",
     "status": "completed"
    },
    "tags": []
   },
   "outputs": [
    {
     "name": "stdout",
     "output_type": "stream",
     "text": [
      "Extracting features from training images...\n"
     ]
    },
    {
     "name": "stderr",
     "output_type": "stream",
     "text": [
      "  0%|          | 0/1222 [00:00<?, ?it/s]WARNING: All log messages before absl::InitializeLog() is called are written to STDERR\n",
      "I0000 00:00:1748078097.092293      62 service.cc:148] XLA service 0x7f3e54002800 initialized for platform CUDA (this does not guarantee that XLA will be used). Devices:\n",
      "I0000 00:00:1748078097.093122      62 service.cc:156]   StreamExecutor device (0): Tesla T4, Compute Capability 7.5\n",
      "I0000 00:00:1748078097.093143      62 service.cc:156]   StreamExecutor device (1): Tesla T4, Compute Capability 7.5\n",
      "I0000 00:00:1748078097.701778      62 cuda_dnn.cc:529] Loaded cuDNN version 90300\n",
      "I0000 00:00:1748078100.165634      62 device_compiler.h:188] Compiled cluster using XLA!  This line is logged at most once for the lifetime of the process.\n",
      "100%|██████████| 1222/1222 [03:49<00:00,  5.33it/s]"
     ]
    },
    {
     "name": "stdout",
     "output_type": "stream",
     "text": [
      "✓ Successfully extracted features from 1222 training images\n",
      "Feature shape: (1222, 2560)\n",
      "Training features shape: (1222, 2560)\n",
      "Feature statistics:\n",
      "Mean: 0.3950\n",
      "Std: 1.2703\n",
      "Min: 0.0000\n",
      "Max: 83.8147\n"
     ]
    },
    {
     "name": "stderr",
     "output_type": "stream",
     "text": [
      "\n"
     ]
    }
   ],
   "source": [
    "def extract_training_features(train_df, train_path, resnet_model, vgg_model):\n",
    "    \"\"\"Extract features from all training images\"\"\"\n",
    "    features_list = []\n",
    "    valid_indices = []\n",
    "    \n",
    "    print(\"Extracting features from training images...\")\n",
    "    \n",
    "    for idx, row in tqdm(train_df.iterrows(), total=len(train_df)):\n",
    "        img_id = row['image_id']\n",
    "        \n",
    "        # Try different image extensions\n",
    "        img_path = os.path.join(train_path, img_id)\n",
    "            \n",
    "        features = extract_features_from_image(img_path, resnet_model, vgg_model)\n",
    "        \n",
    "        if features is not None:\n",
    "            features_list.append(features)\n",
    "            valid_indices.append(idx)\n",
    "        else:\n",
    "            print(f\"Failed to extract features for: {img_id}\")\n",
    "    \n",
    "    if len(features_list) == 0:\n",
    "        raise ValueError(\"No features extracted from training data!\")\n",
    "    \n",
    "    features_array = np.array(features_list)\n",
    "    print(f\"✓ Successfully extracted features from {len(features_list)} training images\")\n",
    "    print(f\"Feature shape: {features_array.shape}\")\n",
    "    \n",
    "    return features_array, valid_indices\n",
    "\n",
    "# Extract features from training data\n",
    "train_features, valid_train_indices = extract_training_features(\n",
    "    train_df, TRAIN_PATH, resnet_model, vgg_model\n",
    ")\n",
    "\n",
    "print(f\"Training features shape: {train_features.shape}\")\n",
    "print(f\"Feature statistics:\")\n",
    "print(f\"Mean: {train_features.mean():.4f}\")\n",
    "print(f\"Std: {train_features.std():.4f}\")\n",
    "print(f\"Min: {train_features.min():.4f}\")\n",
    "print(f\"Max: {train_features.max():.4f}\")\n"
   ]
  },
  {
   "cell_type": "code",
   "execution_count": 5,
   "id": "86c81fb0",
   "metadata": {
    "execution": {
     "iopub.execute_input": "2025-05-24T09:18:43.749787Z",
     "iopub.status.busy": "2025-05-24T09:18:43.749507Z",
     "iopub.status.idle": "2025-05-24T09:18:44.731144Z",
     "shell.execute_reply": "2025-05-24T09:18:44.730278Z"
    },
    "papermill": {
     "duration": 1.032091,
     "end_time": "2025-05-24T09:18:44.732808",
     "exception": false,
     "start_time": "2025-05-24T09:18:43.700717",
     "status": "completed"
    },
    "tags": []
   },
   "outputs": [
    {
     "name": "stdout",
     "output_type": "stream",
     "text": [
      "Training One-Class SVM model...\n",
      "✓ One-Class SVM model trained successfully!\n",
      "\n",
      "Training set validation:\n",
      "Inliers (soil): 1120 (91.7%)\n",
      "Outliers: 102 (8.3%)\n",
      "Decision scores - Mean: 0.1337, Std: 0.0877\n"
     ]
    }
   ],
   "source": [
    "# Standardize the features\n",
    "scaler = StandardScaler()\n",
    "train_features_scaled = scaler.fit_transform(train_features)\n",
    "\n",
    "print(\"Training One-Class SVM model...\")\n",
    "\n",
    "# Train One-Class SVM with optimized parameters\n",
    "# nu parameter controls the fraction of outliers (lower values = stricter)\n",
    "# gamma controls the influence of each training example\n",
    "ocsvm = OneClassSVM(\n",
    "    kernel='rbf',           # Radial basis function kernel\n",
    "    gamma='scale',          # Automatically scales gamma\n",
    "    nu=0.01                 # Conservative threshold - only 5% outliers expected\n",
    ")\n",
    "\n",
    "ocsvm.fit(train_features_scaled)\n",
    "\n",
    "print(\"✓ One-Class SVM model trained successfully!\")\n",
    "\n",
    "# Validate on training data to check the model\n",
    "train_predictions = ocsvm.predict(train_features_scaled)\n",
    "inliers = np.sum(train_predictions == 1)\n",
    "outliers = np.sum(train_predictions == -1)\n",
    "\n",
    "print(f\"\\nTraining set validation:\")\n",
    "print(f\"Inliers (soil): {inliers} ({inliers/len(train_predictions)*100:.1f}%)\")\n",
    "print(f\"Outliers: {outliers} ({outliers/len(train_predictions)*100:.1f}%)\")\n",
    "\n",
    "# Decision scores (higher = more likely to be soil)\n",
    "decision_scores = ocsvm.decision_function(train_features_scaled)\n",
    "print(f\"Decision scores - Mean: {decision_scores.mean():.4f}, Std: {decision_scores.std():.4f}\")\n"
   ]
  },
  {
   "cell_type": "code",
   "execution_count": 6,
   "id": "602b1bf9",
   "metadata": {
    "execution": {
     "iopub.execute_input": "2025-05-24T09:18:44.846676Z",
     "iopub.status.busy": "2025-05-24T09:18:44.846409Z",
     "iopub.status.idle": "2025-05-24T09:21:36.371229Z",
     "shell.execute_reply": "2025-05-24T09:21:36.370405Z"
    },
    "papermill": {
     "duration": 171.579244,
     "end_time": "2025-05-24T09:21:36.372625",
     "exception": false,
     "start_time": "2025-05-24T09:18:44.793381",
     "status": "completed"
    },
    "tags": []
   },
   "outputs": [
    {
     "name": "stdout",
     "output_type": "stream",
     "text": [
      "Processing test images...\n"
     ]
    },
    {
     "name": "stderr",
     "output_type": "stream",
     "text": [
      "100%|██████████| 967/967 [02:51<00:00,  5.64it/s]"
     ]
    },
    {
     "name": "stdout",
     "output_type": "stream",
     "text": [
      "\n",
      "✓ Processed 967 test images\n",
      "Predicted soil images: 269 (27.8%)\n",
      "Predicted non-soil images: 698 (72.2%)\n"
     ]
    },
    {
     "name": "stderr",
     "output_type": "stream",
     "text": [
      "\n"
     ]
    }
   ],
   "source": [
    "def extract_test_features_and_predict(test_df, test_path, resnet_model, vgg_model, ocsvm, scaler):\n",
    "    \"\"\"Extract features from test images and make predictions\"\"\"\n",
    "    predictions = []\n",
    "    decision_scores_list = []\n",
    "    processed_ids = []\n",
    "    \n",
    "    print(\"Processing test images...\")\n",
    "    \n",
    "    for idx, row in tqdm(test_df.iterrows(), total=len(test_df)):\n",
    "        img_id = row['image_id']\n",
    "        \n",
    "        # Try different image extensions\n",
    "        img_path = os.path.join(test_path, img_id)\n",
    "        \n",
    "        # Extract features\n",
    "        features = extract_features_from_image(img_path, resnet_model, vgg_model)\n",
    "        \n",
    "        if features is not None:\n",
    "            # Scale features using the same scaler from training\n",
    "            features_scaled = scaler.transform(features.reshape(1, -1))\n",
    "            \n",
    "            # Get prediction and decision score\n",
    "            prediction = ocsvm.predict(features_scaled)[0]\n",
    "            decision_score = ocsvm.decision_function(features_scaled)[0]\n",
    "            \n",
    "            # Convert One-Class SVM output to binary classification\n",
    "            # 1 = inlier (soil), -1 = outlier (not soil)\n",
    "            binary_prediction = 1 if prediction == 1 else 0\n",
    "            \n",
    "            predictions.append(binary_prediction)\n",
    "            decision_scores_list.append(decision_score)\n",
    "            processed_ids.append(img_id)\n",
    "        else:\n",
    "            print(f\"Failed to extract features for: {img_id}\")\n",
    "            predictions.append(0)  # Default to not soil\n",
    "            decision_scores_list.append(-1.0)\n",
    "            processed_ids.append(img_id)\n",
    "    \n",
    "    return processed_ids, predictions, decision_scores_list\n",
    "\n",
    "# Process test data and make predictions\n",
    "test_ids, test_predictions, test_decision_scores = extract_test_features_and_predict(\n",
    "    test_df, TEST_PATH, resnet_model, vgg_model, ocsvm, scaler\n",
    ")\n",
    "\n",
    "print(f\"\\n✓ Processed {len(test_predictions)} test images\")\n",
    "print(f\"Predicted soil images: {sum(test_predictions)} ({sum(test_predictions)/len(test_predictions)*100:.1f}%)\")\n",
    "print(f\"Predicted non-soil images: {len(test_predictions) - sum(test_predictions)} ({(len(test_predictions) - sum(test_predictions))/len(test_predictions)*100:.1f}%)\")\n"
   ]
  },
  {
   "cell_type": "code",
   "execution_count": 7,
   "id": "c3942d27",
   "metadata": {
    "execution": {
     "iopub.execute_input": "2025-05-24T09:21:36.548697Z",
     "iopub.status.busy": "2025-05-24T09:21:36.548011Z",
     "iopub.status.idle": "2025-05-24T09:21:37.609890Z",
     "shell.execute_reply": "2025-05-24T09:21:37.608815Z"
    },
    "papermill": {
     "duration": 1.150501,
     "end_time": "2025-05-24T09:21:37.611013",
     "exception": false,
     "start_time": "2025-05-24T09:21:36.460512",
     "status": "completed"
    },
    "tags": []
   },
   "outputs": [
    {
     "name": "stdout",
     "output_type": "stream",
     "text": [
      "Confidence Analysis for Predictions:\n",
      "\n",
      "Soil predictions (label=1):\n",
      "  Count: 269\n",
      "  Mean score: 0.1442\n",
      "  Min score: 0.0001\n",
      "  Max score: 0.2439\n",
      "\n",
      "Non-soil predictions (label=0):\n",
      "  Count: 698\n",
      "  Mean score: -0.1524\n",
      "  Min score: -0.1938\n",
      "  Max score: -0.0000\n"
     ]
    },
    {
     "data": {
      "image/png": "[encoded data removed]",
      "text/plain": [
       "<Figure size 1200x500 with 2 Axes>"
      ]
     },
     "metadata": {},
     "output_type": "display_data"
    },
    {
     "name": "stdout",
     "output_type": "stream",
     "text": [
      "\n",
      "✓ Analysis complete! Submission file is ready.\n",
      "✓ Visualization saved to /kaggle/working/decision_scores_analysis.png\n",
      "✓ Submission file saved to: /kaggle/working/submission.csv\n",
      "\n",
      "Final submission summary:\n",
      "- Total images processed: 967\n",
      "- Soil predictions: 269 (27.8%)\n",
      "- Model uses combined ResNet50 + VGG16 features with One-Class SVM\n",
      "- Conservative approach with nu=0.05 for high precision\n"
     ]
    }
   ],
   "source": [
    "# Recreate submission_df in case it's not defined\n",
    "submission_df = pd.DataFrame({\n",
    "    'image_id': test_ids,\n",
    "    'label': test_predictions\n",
    "})\n",
    "\n",
    "# Optional: Analyze confidence levels and potentially adjust threshold\n",
    "print(\"Confidence Analysis for Predictions:\")\n",
    "\n",
    "# Convert decision scores to DataFrame for analysis\n",
    "confidence_df = pd.DataFrame({\n",
    "    'image_id': test_ids,\n",
    "    'prediction': test_predictions,\n",
    "    'decision_score': test_decision_scores\n",
    "})\n",
    "\n",
    "# Analyze decision scores by prediction\n",
    "soil_scores = confidence_df[confidence_df['prediction'] == 1]['decision_score']\n",
    "non_soil_scores = confidence_df[confidence_df['prediction'] == 0]['decision_score']\n",
    "\n",
    "print(f\"\\nSoil predictions (label=1):\")\n",
    "print(f\"  Count: {len(soil_scores)}\")\n",
    "print(f\"  Mean score: {soil_scores.mean():.4f}\")\n",
    "print(f\"  Min score: {soil_scores.min():.4f}\")\n",
    "print(f\"  Max score: {soil_scores.max():.4f}\")\n",
    "\n",
    "print(f\"\\nNon-soil predictions (label=0):\")\n",
    "print(f\"  Count: {len(non_soil_scores)}\")\n",
    "print(f\"  Mean score: {non_soil_scores.mean():.4f}\")\n",
    "print(f\"  Min score: {non_soil_scores.min():.4f}\")\n",
    "print(f\"  Max score: {non_soil_scores.max():.4f}\")\n",
    "\n",
    "# Create visualization of decision scores\n",
    "plt.figure(figsize=(12, 5))\n",
    "\n",
    "plt.subplot(1, 2, 1)\n",
    "plt.hist(soil_scores, bins=30, alpha=0.7, label='Soil (1)', color='brown')\n",
    "plt.hist(non_soil_scores, bins=30, alpha=0.7, label='Non-soil (0)', color='gray')\n",
    "plt.xlabel('Decision Score')\n",
    "plt.ylabel('Frequency')\n",
    "plt.title('Distribution of Decision Scores')\n",
    "plt.legend()\n",
    "plt.grid(True, alpha=0.3)\n",
    "\n",
    "plt.subplot(1, 2, 2)\n",
    "plt.boxplot([soil_scores, non_soil_scores], labels=['Soil', 'Non-soil'])\n",
    "plt.ylabel('Decision Score')\n",
    "plt.title('Decision Score Box Plot')\n",
    "plt.grid(True, alpha=0.3)\n",
    "\n",
    "plt.tight_layout()\n",
    "plt.savefig('/kaggle/working/decision_scores_analysis.png', dpi=300, bbox_inches='tight')\n",
    "plt.show()\n",
    "\n",
    "# Save submission file\n",
    "submission_file_path = '/kaggle/working/submission.csv'\n",
    "submission_df.to_csv(submission_file_path, index=False)\n",
    "\n",
    "print(\"\\n✓ Analysis complete! Submission file is ready.\")\n",
    "print(\"✓ Visualization saved to /kaggle/working/decision_scores_analysis.png\")\n",
    "print(f\"✓ Submission file saved to: {submission_file_path}\")\n",
    "print(\"\\nFinal submission summary:\")\n",
    "print(f\"- Total images processed: {len(submission_df)}\")\n",
    "print(f\"- Soil predictions: {submission_df['label'].sum()} ({submission_df['label'].mean()*100:.1f}%)\")\n",
    "print(f\"- Model uses combined ResNet50 + VGG16 features with One-Class SVM\")\n",
    "print(f\"- Conservative approach with nu=0.05 for high precision\")\n"
   ]
  },
  {
   "cell_type": "code",
   "execution_count": null,
   "id": "14689a05",
   "metadata": {
    "papermill": {
     "duration": 0.086674,
     "end_time": "2025-05-24T09:21:37.784541",
     "exception": false,
     "start_time": "2025-05-24T09:21:37.697867",
     "status": "completed"
    },
    "tags": []
   },
   "outputs": [],
   "source": []
  }
 ],
 "metadata": {
  "kaggle": {
   "accelerator": "nvidiaTeslaT4",
   "dataSources": [
    {
     "databundleVersionId": 12412856,
     "sourceId": 102966,
     "sourceType": "competition"
    }
   ],
   "dockerImageVersionId": 31041,
   "isGpuEnabled": true,
   "isInternetEnabled": true,
   "language": "python",
   "sourceType": "notebook"
  },
  "kernelspec": {
   "display_name": "Python 3",
   "language": "python",
   "name": "python3"
  },
  "language_info": {
   "codemirror_mode": {
    "name": "ipython",
    "version": 3
   },
   "file_extension": ".py",
   "mimetype": "text/x-python",
   "name": "python",
   "nbconvert_exporter": "python",
   "pygments_lexer": "ipython3",
   "version": "3.11.11"
  },
  "papermill": {
   "default_parameters": {},
   "duration": 431.317916,
   "end_time": "2025-05-24T09:21:41.355588",
   "environment_variables": {},
   "exception": null,
   "input_path": "__notebook__.ipynb",
   "output_path": "__notebook__.ipynb",
   "parameters": {},
   "start_time": "2025-05-24T09:14:30.037672",
   "version": "2.6.0"
  }
 },
 "nbformat": 4,
 "nbformat_minor": 5
}
