{
  "cells": [
    {
      "cell_type": "code",
      "execution_count": null,
      "metadata": {
        "id": "nG2h-3cWah1W"
      },
      "outputs": [],
      "source": [
        "\"\"\"\n",
        "\n",
        "Author: Annam.ai IIT Ropar\n",
        "Team Name: Ice 'N' Dagger\n",
        "Team Members: Barun Saha, Bibaswan Das\n",
        "Leaderboard Rank: 70\n",
        "\n",
        "\"\"\"\n",
        "\n",
        "# This is the notebook used for making the inferences using the model trained.\n",
        "\n"
      ]
    },
    {
      "cell_type": "code",
      "execution_count": 1,
      "metadata": {},
      "outputs": [
        {
          "name": "stderr",
          "output_type": "stream",
          "text": [
            "  WARNING: The script tqdm.exe is installed in 'C:\\Users\\rahul barun\\AppData\\Roaming\\Python\\Python313\\Scripts' which is not on PATH.\n",
            "  Consider adding this directory to PATH or, if you prefer to suppress this warning, use --no-warn-script-location.\n",
            "  WARNING: The script isympy.exe is installed in 'C:\\Users\\rahul barun\\AppData\\Roaming\\Python\\Python313\\Scripts' which is not on PATH.\n",
            "  Consider adding this directory to PATH or, if you prefer to suppress this warning, use --no-warn-script-location.\n",
            "  WARNING: The scripts f2py.exe and numpy-config.exe are installed in 'C:\\Users\\rahul barun\\AppData\\Roaming\\Python\\Python313\\Scripts' which is not on PATH.\n",
            "  Consider adding this directory to PATH or, if you prefer to suppress this warning, use --no-warn-script-location.\n",
            "  WARNING: The script normalizer.exe is installed in 'C:\\Users\\rahul barun\\AppData\\Roaming\\Python\\Python313\\Scripts' which is not on PATH.\n",
            "  Consider adding this directory to PATH or, if you prefer to suppress this warning, use --no-warn-script-location.\n",
            "  WARNING: The scripts torchfrtrace.exe and torchrun.exe are installed in 'C:\\Users\\rahul barun\\AppData\\Roaming\\Python\\Python313\\Scripts' which is not on PATH.\n",
            "  Consider adding this directory to PATH or, if you prefer to suppress this warning, use --no-warn-script-location.\n",
            "  WARNING: The scripts huggingface-cli.exe and tiny-agents.exe are installed in 'C:\\Users\\rahul barun\\AppData\\Roaming\\Python\\Python313\\Scripts' which is not on PATH.\n",
            "  Consider adding this directory to PATH or, if you prefer to suppress this warning, use --no-warn-script-location.\n",
            "\n",
            "[notice] A new release of pip is available: 25.0.1 -> 25.1.1\n",
            "[notice] To update, run: C:\\Python313\\python.exe -m pip install --upgrade pip\n"
          ]
        }
      ],
      "source": [
        "!pip install -q torch torchvision timm pandas scikit-learn joblib"
      ]
    },
    {
      "cell_type": "code",
      "execution_count": null,
      "metadata": {},
      "outputs": [],
      "source": [
        "import torch\n",
        "import pandas as pd\n",
        "from torch.utils.data import DataLoader\n",
        "import timm\n",
        "import joblib\n",
        "\n",
        "from preprocessing import SoilDataset, test_transform\n",
        "\n",
        "# Constants\n",
        "BATCH_SIZE = 32\n",
        "IMG_SIZE = 224\n",
        "DEVICE = torch.device(\"cuda\" if torch.cuda.is_available() else \"cpu\")\n",
        "MODEL_NAME = \"swin_base_patch4_window7_224\"\n",
        "TEST_DIR = \"/kaggle/input/soil-classification/soil_classification-2025/test\"\n",
        "TEST_CSV = \"/kaggle/input/soil-classification/soil_classification-2025/test_ids.csv\"\n",
        "BEST_MODEL_PATH = \"best_model.pth\"\n",
        "\n",
        "# Load test data\n",
        "test_df = pd.read_csv(TEST_CSV)\n",
        "label_encoder = joblib.load(\"label_encoder.pkl\")\n",
        "test_dataset = SoilDataset(test_df, TEST_DIR, transform=test_transform)\n",
        "test_loader = DataLoader(test_dataset, batch_size=BATCH_SIZE)\n",
        "\n",
        "# Model\n",
        "model = timm.create_model(MODEL_NAME, pretrained=False, num_classes=len(label_encoder.classes_))\n",
        "model.load_state_dict(torch.load(BEST_MODEL_PATH))\n",
        "model.to(DEVICE)\n",
        "model.eval()\n",
        "\n",
        "# Inference\n",
        "predictions = []\n",
        "image_ids = []\n",
        "with torch.no_grad():\n",
        "    for images, _, ids in test_loader:\n",
        "        images = images.to(DEVICE)\n",
        "        outputs = model(images)\n",
        "        preds = outputs.argmax(dim=1)\n",
        "        predictions.extend(preds.cpu().numpy())\n",
        "        image_ids.extend(ids)\n",
        "\n",
        "# Save results\n",
        "submission = pd.DataFrame({\n",
        "    'image_id': image_ids,\n",
        "    'soil_type': label_encoder.inverse_transform(predictions)\n",
        "})\n",
        "submission.to_csv(\"submission.csv\", index=False)\n",
        "print(\"Saved predictions to submission.csv\")"
      ]
    }
  ],
  "metadata": {
    "colab": {
      "provenance": []
    },
    "kernelspec": {
      "display_name": "Python 3",
      "name": "python3"
    },
    "language_info": {
      "codemirror_mode": {
        "name": "ipython",
        "version": 3
      },
      "file_extension": ".py",
      "mimetype": "text/x-python",
      "name": "python",
      "nbconvert_exporter": "python",
      "pygments_lexer": "ipython3",
      "version": "3.10.8"
    }
  },
  "nbformat": 4,
  "nbformat_minor": 0
}
